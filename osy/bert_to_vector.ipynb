{
 "cells": [
  {
   "cell_type": "code",
   "execution_count": 1,
   "metadata": {},
   "outputs": [],
   "source": [
    "import json\n",
    "import pandas as pd\n",
    "import warnings\n",
    "import json\n",
    "from tqdm import tqdm\n",
    "import re"
   ]
  },
  {
   "cell_type": "code",
   "execution_count": 3,
   "metadata": {},
   "outputs": [
    {
     "data": {
      "text/html": [
       "<div>\n",
       "<style scoped>\n",
       "    .dataframe tbody tr th:only-of-type {\n",
       "        vertical-align: middle;\n",
       "    }\n",
       "\n",
       "    .dataframe tbody tr th {\n",
       "        vertical-align: top;\n",
       "    }\n",
       "\n",
       "    .dataframe thead th {\n",
       "        text-align: right;\n",
       "    }\n",
       "</style>\n",
       "<table border=\"1\" class=\"dataframe\">\n",
       "  <thead>\n",
       "    <tr style=\"text-align: right;\">\n",
       "      <th></th>\n",
       "      <th>id</th>\n",
       "      <th>ex_sentence</th>\n",
       "    </tr>\n",
       "  </thead>\n",
       "  <tbody>\n",
       "    <tr>\n",
       "      <th>0</th>\n",
       "      <td>1</td>\n",
       "      <td>전라남도가 쌀 과잉문제를 근본적으로 해결하기 위해 올해부터 시행하는 쌀 생산조정제를...</td>\n",
       "    </tr>\n",
       "    <tr>\n",
       "      <th>1</th>\n",
       "      <td>1</td>\n",
       "      <td>쌀 생산조정제는 벼를 심었던 논에 벼 대신 사료작물이나 콩 등 다른 작물을 심으면 ...</td>\n",
       "    </tr>\n",
       "    <tr>\n",
       "      <th>2</th>\n",
       "      <td>1</td>\n",
       "      <td>논에 다른 작물 재배를 바라는 농가는 오는 22일부터 2월 28일까지 농지 소재지 ...</td>\n",
       "    </tr>\n",
       "    <tr>\n",
       "      <th>3</th>\n",
       "      <td>2</td>\n",
       "      <td>여수시는 원도심 일대에서 추진된 컬러빌리지 사업을 지난해 말 마무리하며 색채와 빛의...</td>\n",
       "    </tr>\n",
       "    <tr>\n",
       "      <th>4</th>\n",
       "      <td>2</td>\n",
       "      <td>컬러빌리지는 색채를 이용한 경관개선사업으로 사업완료에 따라 고소천사벽화마을과 자산마...</td>\n",
       "    </tr>\n",
       "  </tbody>\n",
       "</table>\n",
       "</div>"
      ],
      "text/plain": [
       "   id                                        ex_sentence\n",
       "0   1  전라남도가 쌀 과잉문제를 근본적으로 해결하기 위해 올해부터 시행하는 쌀 생산조정제를...\n",
       "1   1  쌀 생산조정제는 벼를 심었던 논에 벼 대신 사료작물이나 콩 등 다른 작물을 심으면 ...\n",
       "2   1  논에 다른 작물 재배를 바라는 농가는 오는 22일부터 2월 28일까지 농지 소재지 ...\n",
       "3   2  여수시는 원도심 일대에서 추진된 컬러빌리지 사업을 지난해 말 마무리하며 색채와 빛의...\n",
       "4   2  컬러빌리지는 색채를 이용한 경관개선사업으로 사업완료에 따라 고소천사벽화마을과 자산마..."
      ]
     },
     "execution_count": 3,
     "metadata": {},
     "output_type": "execute_result"
    }
   ],
   "source": [
    "# 데이터 불러오기\n",
    "DATA_DIR = \"../data/\"\n",
    "data_file = \"for_vector_table.csv\"\n",
    "dataset = pd.read_csv(DATA_DIR + data_file, encoding='UTF-8')\n",
    "dataset.head()"
   ]
  },
  {
   "cell_type": "code",
   "execution_count": 6,
   "metadata": {},
   "outputs": [
    {
     "data": {
      "text/html": [
       "<div>\n",
       "<style scoped>\n",
       "    .dataframe tbody tr th:only-of-type {\n",
       "        vertical-align: middle;\n",
       "    }\n",
       "\n",
       "    .dataframe tbody tr th {\n",
       "        vertical-align: top;\n",
       "    }\n",
       "\n",
       "    .dataframe thead th {\n",
       "        text-align: right;\n",
       "    }\n",
       "</style>\n",
       "<table border=\"1\" class=\"dataframe\">\n",
       "  <thead>\n",
       "    <tr style=\"text-align: right;\">\n",
       "      <th></th>\n",
       "      <th>id</th>\n",
       "      <th>ex_sentence</th>\n",
       "    </tr>\n",
       "  </thead>\n",
       "  <tbody>\n",
       "    <tr>\n",
       "      <th>731926</th>\n",
       "      <td>243976</td>\n",
       "      <td>아산시는 지난 25일 시청 상황실에서 (가칭)재활헬스케어힐링스파산업진흥원(이하 진흥...</td>\n",
       "    </tr>\n",
       "    <tr>\n",
       "      <th>731927</th>\n",
       "      <td>243976</td>\n",
       "      <td>시는 지난 5월 산업부 스마트특성화기반구축사업 적합사업으로 선정된 힐링스파 기반 재...</td>\n",
       "    </tr>\n",
       "    <tr>\n",
       "      <th>731928</th>\n",
       "      <td>243977</td>\n",
       "      <td>입시 전문 재수기숙학원 용인비상에듀기숙학원이 2021학년도 수능을 준비하는 고교 졸...</td>\n",
       "    </tr>\n",
       "    <tr>\n",
       "      <th>731929</th>\n",
       "      <td>243977</td>\n",
       "      <td>1차 개강(12월 15일~12월 31일) 2주간은 국어,영어, 수학을 집중 학습하고...</td>\n",
       "    </tr>\n",
       "    <tr>\n",
       "      <th>731930</th>\n",
       "      <td>243977</td>\n",
       "      <td>한편, 용인비상에듀는 태화산 끝자락에 위치한 1만여 평 규모의 기숙학원으로 천연 잔...</td>\n",
       "    </tr>\n",
       "  </tbody>\n",
       "</table>\n",
       "</div>"
      ],
      "text/plain": [
       "            id                                        ex_sentence\n",
       "731926  243976  아산시는 지난 25일 시청 상황실에서 (가칭)재활헬스케어힐링스파산업진흥원(이하 진흥...\n",
       "731927  243976  시는 지난 5월 산업부 스마트특성화기반구축사업 적합사업으로 선정된 힐링스파 기반 재...\n",
       "731928  243977  입시 전문 재수기숙학원 용인비상에듀기숙학원이 2021학년도 수능을 준비하는 고교 졸...\n",
       "731929  243977  1차 개강(12월 15일~12월 31일) 2주간은 국어,영어, 수학을 집중 학습하고...\n",
       "731930  243977  한편, 용인비상에듀는 태화산 끝자락에 위치한 1만여 평 규모의 기숙학원으로 천연 잔..."
      ]
     },
     "execution_count": 6,
     "metadata": {},
     "output_type": "execute_result"
    }
   ],
   "source": [
    "dataset.tail()"
   ]
  },
  {
   "cell_type": "code",
   "execution_count": null,
   "metadata": {},
   "outputs": [],
   "source": []
  }
 ],
 "metadata": {
  "kernelspec": {
   "display_name": "base",
   "language": "python",
   "name": "python3"
  },
  "language_info": {
   "codemirror_mode": {
    "name": "ipython",
    "version": 3
   },
   "file_extension": ".py",
   "mimetype": "text/x-python",
   "name": "python",
   "nbconvert_exporter": "python",
   "pygments_lexer": "ipython3",
   "version": "3.9.13"
  },
  "orig_nbformat": 4
 },
 "nbformat": 4,
 "nbformat_minor": 2
}
