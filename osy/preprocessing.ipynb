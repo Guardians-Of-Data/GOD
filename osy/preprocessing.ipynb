{
 "cells": [
  {
   "cell_type": "code",
   "execution_count": 1,
   "metadata": {},
   "outputs": [],
   "source": [
    "import json\n",
    "import pandas as pd\n",
    "import warnings\n",
    "import json\n",
    "from tqdm import tqdm\n",
    "import re"
   ]
  },
  {
   "attachments": {},
   "cell_type": "markdown",
   "metadata": {},
   "source": [
    "# dataset_for_vector불러오기"
   ]
  },
  {
   "cell_type": "code",
   "execution_count": 89,
   "metadata": {},
   "outputs": [
    {
     "data": {
      "text/html": [
       "<div>\n",
       "<style scoped>\n",
       "    .dataframe tbody tr th:only-of-type {\n",
       "        vertical-align: middle;\n",
       "    }\n",
       "\n",
       "    .dataframe tbody tr th {\n",
       "        vertical-align: top;\n",
       "    }\n",
       "\n",
       "    .dataframe thead th {\n",
       "        text-align: right;\n",
       "    }\n",
       "</style>\n",
       "<table border=\"1\" class=\"dataframe\">\n",
       "  <thead>\n",
       "    <tr style=\"text-align: right;\">\n",
       "      <th></th>\n",
       "      <th>title</th>\n",
       "      <th>sentence</th>\n",
       "      <th>extractive</th>\n",
       "    </tr>\n",
       "  </thead>\n",
       "  <tbody>\n",
       "    <tr>\n",
       "      <th>0</th>\n",
       "      <td>논 타작물 재배, 2월 말까지 신청하세요</td>\n",
       "      <td>['ha당 조사료 400만원…작물별 차등 지원', '이성훈 sinawi@hanmai...</td>\n",
       "      <td>[2, 3, 10]</td>\n",
       "    </tr>\n",
       "    <tr>\n",
       "      <th>1</th>\n",
       "      <td>여수시, 컬러빌리지 마무리...색채와 빛도시 완성</td>\n",
       "      <td>['8억 투입, 고소천사벽화·자산마을에 색채 입혀', '이성훈 sinawi@hanm...</td>\n",
       "      <td>[2, 4, 11]</td>\n",
       "    </tr>\n",
       "    <tr>\n",
       "      <th>2</th>\n",
       "      <td>새해 정기 받고 올해는 반드시 일내자!</td>\n",
       "      <td>['전남드래곤즈 해맞이 다짐…선수 영입 활발', '이성훈 sinawi@hanmail...</td>\n",
       "      <td>[3, 5, 7]</td>\n",
       "    </tr>\n",
       "    <tr>\n",
       "      <th>3</th>\n",
       "      <td>농업인 역량 강화, 새해 실용교육 실시</td>\n",
       "      <td>['11~24일, 매실·감·참다래 등 지역특화작목', '이성훈 sinawi@hanm...</td>\n",
       "      <td>[2, 3, 4]</td>\n",
       "    </tr>\n",
       "    <tr>\n",
       "      <th>4</th>\n",
       "      <td>타이완 크루즈관광객 4천여명전남온다</td>\n",
       "      <td>['홍콩 크루즈선사아쿠아리우스 4, 6월 여수항 입항', '이성훈 sinawi@ha...</td>\n",
       "      <td>[3, 7, 4]</td>\n",
       "    </tr>\n",
       "  </tbody>\n",
       "</table>\n",
       "</div>"
      ],
      "text/plain": [
       "                         title  \\\n",
       "0       논 타작물 재배, 2월 말까지 신청하세요   \n",
       "1  여수시, 컬러빌리지 마무리...색채와 빛도시 완성   \n",
       "2        새해 정기 받고 올해는 반드시 일내자!   \n",
       "3        농업인 역량 강화, 새해 실용교육 실시   \n",
       "4          타이완 크루즈관광객 4천여명전남온다   \n",
       "\n",
       "                                            sentence  extractive  \n",
       "0  ['ha당 조사료 400만원…작물별 차등 지원', '이성훈 sinawi@hanmai...  [2, 3, 10]  \n",
       "1  ['8억 투입, 고소천사벽화·자산마을에 색채 입혀', '이성훈 sinawi@hanm...  [2, 4, 11]  \n",
       "2  ['전남드래곤즈 해맞이 다짐…선수 영입 활발', '이성훈 sinawi@hanmail...   [3, 5, 7]  \n",
       "3  ['11~24일, 매실·감·참다래 등 지역특화작목', '이성훈 sinawi@hanm...   [2, 3, 4]  \n",
       "4  ['홍콩 크루즈선사아쿠아리우스 4, 6월 여수항 입항', '이성훈 sinawi@ha...   [3, 7, 4]  "
      ]
     },
     "execution_count": 89,
     "metadata": {},
     "output_type": "execute_result"
    }
   ],
   "source": [
    "DATA_DIR = \"../data/\"\n",
    "data_file = \"dataset_for_vector.csv\"\n",
    "dataset = pd.read_csv(DATA_DIR + data_file, encoding='UTF-8')\n",
    "dataset.head()"
   ]
  },
  {
   "cell_type": "code",
   "execution_count": 90,
   "metadata": {},
   "outputs": [
    {
     "name": "stdout",
     "output_type": "stream",
     "text": [
      "<class 'pandas.core.frame.DataFrame'>\n",
      "RangeIndex: 243977 entries, 0 to 243976\n",
      "Data columns (total 3 columns):\n",
      " #   Column      Non-Null Count   Dtype \n",
      "---  ------      --------------   ----- \n",
      " 0   title       243977 non-null  object\n",
      " 1   sentence    243977 non-null  object\n",
      " 2   extractive  243977 non-null  object\n",
      "dtypes: object(3)\n",
      "memory usage: 5.6+ MB\n"
     ]
    }
   ],
   "source": [
    "dataset.info()"
   ]
  },
  {
   "cell_type": "code",
   "execution_count": 91,
   "metadata": {},
   "outputs": [
    {
     "data": {
      "text/plain": [
       "title         0\n",
       "sentence      0\n",
       "extractive    0\n",
       "dtype: int64"
      ]
     },
     "execution_count": 91,
     "metadata": {},
     "output_type": "execute_result"
    }
   ],
   "source": [
    "dataset.isna().sum()"
   ]
  },
  {
   "attachments": {},
   "cell_type": "markdown",
   "metadata": {},
   "source": [
    "# 데이터 전처리"
   ]
  },
  {
   "attachments": {},
   "cell_type": "markdown",
   "metadata": {},
   "source": [
    "### 'sentence'와 'extractive'컬럼 리스트 타입으로 변경\n",
    "데이터 불러오면서 string으로 바뀜..."
   ]
  },
  {
   "cell_type": "code",
   "execution_count": 92,
   "metadata": {},
   "outputs": [
    {
     "data": {
      "text/plain": [
       "'['"
      ]
     },
     "execution_count": 92,
     "metadata": {},
     "output_type": "execute_result"
    }
   ],
   "source": [
    "dataset['sentence'][0][0]"
   ]
  },
  {
   "cell_type": "code",
   "execution_count": 93,
   "metadata": {},
   "outputs": [
    {
     "data": {
      "text/plain": [
       "'['"
      ]
     },
     "execution_count": 93,
     "metadata": {},
     "output_type": "execute_result"
    }
   ],
   "source": [
    "dataset['extractive'][0][0]"
   ]
  },
  {
   "cell_type": "code",
   "execution_count": 94,
   "metadata": {},
   "outputs": [],
   "source": [
    "# sentence와 extractive 컬럼의 string을 리스트로 변환\n",
    "import ast\n",
    "\n",
    "dataset['sentence'] = dataset['sentence'].apply(ast.literal_eval)\n",
    "dataset['extractive'] = dataset['extractive'].apply(ast.literal_eval)"
   ]
  },
  {
   "cell_type": "code",
   "execution_count": 96,
   "metadata": {},
   "outputs": [
    {
     "name": "stdout",
     "output_type": "stream",
     "text": [
      "ha당 조사료 400만원…작물별 차등 지원\n",
      "2\n"
     ]
    }
   ],
   "source": [
    "print(dataset['sentence'][0][0])\n",
    "print(dataset['extractive'][0][0])"
   ]
  },
  {
   "attachments": {},
   "cell_type": "markdown",
   "metadata": {},
   "source": [
    "### ex_sentence 컬럼 추가\n",
    "extracitve에 해당하는 문장 추출"
   ]
  },
  {
   "cell_type": "code",
   "execution_count": 98,
   "metadata": {},
   "outputs": [],
   "source": [
    "# extractive에 해당하는 문장 뽑는 함수 구현\n",
    "def extract_sentence(row):\n",
    "    return [row['sentence'][index] for index in row['extractive']]\n",
    "\n",
    "dataset['ex_sentence'] = dataset.apply(extract_sentence, axis=1)"
   ]
  },
  {
   "cell_type": "code",
   "execution_count": 99,
   "metadata": {},
   "outputs": [
    {
     "data": {
      "text/html": [
       "<div>\n",
       "<style scoped>\n",
       "    .dataframe tbody tr th:only-of-type {\n",
       "        vertical-align: middle;\n",
       "    }\n",
       "\n",
       "    .dataframe tbody tr th {\n",
       "        vertical-align: top;\n",
       "    }\n",
       "\n",
       "    .dataframe thead th {\n",
       "        text-align: right;\n",
       "    }\n",
       "</style>\n",
       "<table border=\"1\" class=\"dataframe\">\n",
       "  <thead>\n",
       "    <tr style=\"text-align: right;\">\n",
       "      <th></th>\n",
       "      <th>title</th>\n",
       "      <th>sentence</th>\n",
       "      <th>extractive</th>\n",
       "      <th>ex_sentence</th>\n",
       "    </tr>\n",
       "  </thead>\n",
       "  <tbody>\n",
       "    <tr>\n",
       "      <th>0</th>\n",
       "      <td>논 타작물 재배, 2월 말까지 신청하세요</td>\n",
       "      <td>[ha당 조사료 400만원…작물별 차등 지원, 이성훈 sinawi@hanmail.n...</td>\n",
       "      <td>[2, 3, 10]</td>\n",
       "      <td>[전라남도가 쌀 과잉문제를 근본적으로 해결하기 위해 올해부터 시행하는 쌀 생산조정제...</td>\n",
       "    </tr>\n",
       "    <tr>\n",
       "      <th>1</th>\n",
       "      <td>여수시, 컬러빌리지 마무리...색채와 빛도시 완성</td>\n",
       "      <td>[8억 투입, 고소천사벽화·자산마을에 색채 입혀, 이성훈 sinawi@hanmail...</td>\n",
       "      <td>[2, 4, 11]</td>\n",
       "      <td>[여수시는 원도심 일대에서 추진된 컬러빌리지 사업을 지난해 말 마무리하며 색채와 빛...</td>\n",
       "    </tr>\n",
       "    <tr>\n",
       "      <th>2</th>\n",
       "      <td>새해 정기 받고 올해는 반드시 일내자!</td>\n",
       "      <td>[전남드래곤즈 해맞이 다짐…선수 영입 활발, 이성훈 sinawi@hanmail.ne...</td>\n",
       "      <td>[3, 5, 7]</td>\n",
       "      <td>[임직원과 선수단 모두는 이날 구봉산 정상에 올라 일출을 보며 2018년 구단 목표...</td>\n",
       "    </tr>\n",
       "    <tr>\n",
       "      <th>3</th>\n",
       "      <td>농업인 역량 강화, 새해 실용교육 실시</td>\n",
       "      <td>[11~24일, 매실·감·참다래 등 지역특화작목, 이성훈 sinawi@hanmail...</td>\n",
       "      <td>[2, 3, 4]</td>\n",
       "      <td>[광양시는 오는 11일부터 24일까지 농업인교육관과 읍면동 회의실에서 농업인 105...</td>\n",
       "    </tr>\n",
       "    <tr>\n",
       "      <th>4</th>\n",
       "      <td>타이완 크루즈관광객 4천여명전남온다</td>\n",
       "      <td>[홍콩 크루즈선사아쿠아리우스 4, 6월 여수항 입항, 이성훈 sinawi@hanma...</td>\n",
       "      <td>[3, 7, 4]</td>\n",
       "      <td>[전라남도는 올해 4월과 6월 홍콩 크루즈선사 스타크루즈의 5만톤급아쿠아리우스호가 ...</td>\n",
       "    </tr>\n",
       "  </tbody>\n",
       "</table>\n",
       "</div>"
      ],
      "text/plain": [
       "                         title  \\\n",
       "0       논 타작물 재배, 2월 말까지 신청하세요   \n",
       "1  여수시, 컬러빌리지 마무리...색채와 빛도시 완성   \n",
       "2        새해 정기 받고 올해는 반드시 일내자!   \n",
       "3        농업인 역량 강화, 새해 실용교육 실시   \n",
       "4          타이완 크루즈관광객 4천여명전남온다   \n",
       "\n",
       "                                            sentence  extractive  \\\n",
       "0  [ha당 조사료 400만원…작물별 차등 지원, 이성훈 sinawi@hanmail.n...  [2, 3, 10]   \n",
       "1  [8억 투입, 고소천사벽화·자산마을에 색채 입혀, 이성훈 sinawi@hanmail...  [2, 4, 11]   \n",
       "2  [전남드래곤즈 해맞이 다짐…선수 영입 활발, 이성훈 sinawi@hanmail.ne...   [3, 5, 7]   \n",
       "3  [11~24일, 매실·감·참다래 등 지역특화작목, 이성훈 sinawi@hanmail...   [2, 3, 4]   \n",
       "4  [홍콩 크루즈선사아쿠아리우스 4, 6월 여수항 입항, 이성훈 sinawi@hanma...   [3, 7, 4]   \n",
       "\n",
       "                                         ex_sentence  \n",
       "0  [전라남도가 쌀 과잉문제를 근본적으로 해결하기 위해 올해부터 시행하는 쌀 생산조정제...  \n",
       "1  [여수시는 원도심 일대에서 추진된 컬러빌리지 사업을 지난해 말 마무리하며 색채와 빛...  \n",
       "2  [임직원과 선수단 모두는 이날 구봉산 정상에 올라 일출을 보며 2018년 구단 목표...  \n",
       "3  [광양시는 오는 11일부터 24일까지 농업인교육관과 읍면동 회의실에서 농업인 105...  \n",
       "4  [전라남도는 올해 4월과 6월 홍콩 크루즈선사 스타크루즈의 5만톤급아쿠아리우스호가 ...  "
      ]
     },
     "execution_count": 99,
     "metadata": {},
     "output_type": "execute_result"
    }
   ],
   "source": [
    "dataset.head()"
   ]
  },
  {
   "cell_type": "code",
   "execution_count": 100,
   "metadata": {},
   "outputs": [
    {
     "data": {
      "text/plain": [
       "'전라남도가 쌀 과잉문제를 근본적으로 해결하기 위해 올해부터 시행하는 쌀 생산조정제를 적극 추진키로 했다.'"
      ]
     },
     "execution_count": 100,
     "metadata": {},
     "output_type": "execute_result"
    }
   ],
   "source": [
    "dataset['ex_sentence'][0][0]"
   ]
  },
  {
   "attachments": {},
   "cell_type": "markdown",
   "metadata": {},
   "source": [
    "### id 컬럼 추가\n",
    "id는 각 기사별로 고유의 값 가질 수 있도록 함"
   ]
  },
  {
   "cell_type": "code",
   "execution_count": null,
   "metadata": {},
   "outputs": [],
   "source": [
    "dataset.reset_index(drop=True)"
   ]
  },
  {
   "cell_type": "code",
   "execution_count": 103,
   "metadata": {},
   "outputs": [],
   "source": [
    "dataset['id'] = dataset.index + 1"
   ]
  },
  {
   "cell_type": "code",
   "execution_count": 104,
   "metadata": {},
   "outputs": [
    {
     "data": {
      "text/html": [
       "<div>\n",
       "<style scoped>\n",
       "    .dataframe tbody tr th:only-of-type {\n",
       "        vertical-align: middle;\n",
       "    }\n",
       "\n",
       "    .dataframe tbody tr th {\n",
       "        vertical-align: top;\n",
       "    }\n",
       "\n",
       "    .dataframe thead th {\n",
       "        text-align: right;\n",
       "    }\n",
       "</style>\n",
       "<table border=\"1\" class=\"dataframe\">\n",
       "  <thead>\n",
       "    <tr style=\"text-align: right;\">\n",
       "      <th></th>\n",
       "      <th>title</th>\n",
       "      <th>sentence</th>\n",
       "      <th>extractive</th>\n",
       "      <th>ex_sentence</th>\n",
       "      <th>id</th>\n",
       "    </tr>\n",
       "  </thead>\n",
       "  <tbody>\n",
       "    <tr>\n",
       "      <th>0</th>\n",
       "      <td>논 타작물 재배, 2월 말까지 신청하세요</td>\n",
       "      <td>[ha당 조사료 400만원…작물별 차등 지원, 이성훈 sinawi@hanmail.n...</td>\n",
       "      <td>[2, 3, 10]</td>\n",
       "      <td>[전라남도가 쌀 과잉문제를 근본적으로 해결하기 위해 올해부터 시행하는 쌀 생산조정제...</td>\n",
       "      <td>1</td>\n",
       "    </tr>\n",
       "    <tr>\n",
       "      <th>1</th>\n",
       "      <td>여수시, 컬러빌리지 마무리...색채와 빛도시 완성</td>\n",
       "      <td>[8억 투입, 고소천사벽화·자산마을에 색채 입혀, 이성훈 sinawi@hanmail...</td>\n",
       "      <td>[2, 4, 11]</td>\n",
       "      <td>[여수시는 원도심 일대에서 추진된 컬러빌리지 사업을 지난해 말 마무리하며 색채와 빛...</td>\n",
       "      <td>2</td>\n",
       "    </tr>\n",
       "    <tr>\n",
       "      <th>2</th>\n",
       "      <td>새해 정기 받고 올해는 반드시 일내자!</td>\n",
       "      <td>[전남드래곤즈 해맞이 다짐…선수 영입 활발, 이성훈 sinawi@hanmail.ne...</td>\n",
       "      <td>[3, 5, 7]</td>\n",
       "      <td>[임직원과 선수단 모두는 이날 구봉산 정상에 올라 일출을 보며 2018년 구단 목표...</td>\n",
       "      <td>3</td>\n",
       "    </tr>\n",
       "    <tr>\n",
       "      <th>3</th>\n",
       "      <td>농업인 역량 강화, 새해 실용교육 실시</td>\n",
       "      <td>[11~24일, 매실·감·참다래 등 지역특화작목, 이성훈 sinawi@hanmail...</td>\n",
       "      <td>[2, 3, 4]</td>\n",
       "      <td>[광양시는 오는 11일부터 24일까지 농업인교육관과 읍면동 회의실에서 농업인 105...</td>\n",
       "      <td>4</td>\n",
       "    </tr>\n",
       "    <tr>\n",
       "      <th>4</th>\n",
       "      <td>타이완 크루즈관광객 4천여명전남온다</td>\n",
       "      <td>[홍콩 크루즈선사아쿠아리우스 4, 6월 여수항 입항, 이성훈 sinawi@hanma...</td>\n",
       "      <td>[3, 7, 4]</td>\n",
       "      <td>[전라남도는 올해 4월과 6월 홍콩 크루즈선사 스타크루즈의 5만톤급아쿠아리우스호가 ...</td>\n",
       "      <td>5</td>\n",
       "    </tr>\n",
       "  </tbody>\n",
       "</table>\n",
       "</div>"
      ],
      "text/plain": [
       "                         title  \\\n",
       "0       논 타작물 재배, 2월 말까지 신청하세요   \n",
       "1  여수시, 컬러빌리지 마무리...색채와 빛도시 완성   \n",
       "2        새해 정기 받고 올해는 반드시 일내자!   \n",
       "3        농업인 역량 강화, 새해 실용교육 실시   \n",
       "4          타이완 크루즈관광객 4천여명전남온다   \n",
       "\n",
       "                                            sentence  extractive  \\\n",
       "0  [ha당 조사료 400만원…작물별 차등 지원, 이성훈 sinawi@hanmail.n...  [2, 3, 10]   \n",
       "1  [8억 투입, 고소천사벽화·자산마을에 색채 입혀, 이성훈 sinawi@hanmail...  [2, 4, 11]   \n",
       "2  [전남드래곤즈 해맞이 다짐…선수 영입 활발, 이성훈 sinawi@hanmail.ne...   [3, 5, 7]   \n",
       "3  [11~24일, 매실·감·참다래 등 지역특화작목, 이성훈 sinawi@hanmail...   [2, 3, 4]   \n",
       "4  [홍콩 크루즈선사아쿠아리우스 4, 6월 여수항 입항, 이성훈 sinawi@hanma...   [3, 7, 4]   \n",
       "\n",
       "                                         ex_sentence  id  \n",
       "0  [전라남도가 쌀 과잉문제를 근본적으로 해결하기 위해 올해부터 시행하는 쌀 생산조정제...   1  \n",
       "1  [여수시는 원도심 일대에서 추진된 컬러빌리지 사업을 지난해 말 마무리하며 색채와 빛...   2  \n",
       "2  [임직원과 선수단 모두는 이날 구봉산 정상에 올라 일출을 보며 2018년 구단 목표...   3  \n",
       "3  [광양시는 오는 11일부터 24일까지 농업인교육관과 읍면동 회의실에서 농업인 105...   4  \n",
       "4  [전라남도는 올해 4월과 6월 홍콩 크루즈선사 스타크루즈의 5만톤급아쿠아리우스호가 ...   5  "
      ]
     },
     "execution_count": 104,
     "metadata": {},
     "output_type": "execute_result"
    }
   ],
   "source": [
    "dataset.head()"
   ]
  },
  {
   "cell_type": "code",
   "execution_count": 105,
   "metadata": {},
   "outputs": [],
   "source": [
    "# 컬럼 순서 바꾸기\n",
    "dataset = dataset[['id', 'title', 'sentence', 'extractive', 'ex_sentence']]"
   ]
  },
  {
   "cell_type": "code",
   "execution_count": 106,
   "metadata": {},
   "outputs": [
    {
     "data": {
      "text/html": [
       "<div>\n",
       "<style scoped>\n",
       "    .dataframe tbody tr th:only-of-type {\n",
       "        vertical-align: middle;\n",
       "    }\n",
       "\n",
       "    .dataframe tbody tr th {\n",
       "        vertical-align: top;\n",
       "    }\n",
       "\n",
       "    .dataframe thead th {\n",
       "        text-align: right;\n",
       "    }\n",
       "</style>\n",
       "<table border=\"1\" class=\"dataframe\">\n",
       "  <thead>\n",
       "    <tr style=\"text-align: right;\">\n",
       "      <th></th>\n",
       "      <th>id</th>\n",
       "      <th>title</th>\n",
       "      <th>sentence</th>\n",
       "      <th>extractive</th>\n",
       "      <th>ex_sentence</th>\n",
       "    </tr>\n",
       "  </thead>\n",
       "  <tbody>\n",
       "    <tr>\n",
       "      <th>0</th>\n",
       "      <td>1</td>\n",
       "      <td>논 타작물 재배, 2월 말까지 신청하세요</td>\n",
       "      <td>[ha당 조사료 400만원…작물별 차등 지원, 이성훈 sinawi@hanmail.n...</td>\n",
       "      <td>[2, 3, 10]</td>\n",
       "      <td>[전라남도가 쌀 과잉문제를 근본적으로 해결하기 위해 올해부터 시행하는 쌀 생산조정제...</td>\n",
       "    </tr>\n",
       "    <tr>\n",
       "      <th>1</th>\n",
       "      <td>2</td>\n",
       "      <td>여수시, 컬러빌리지 마무리...색채와 빛도시 완성</td>\n",
       "      <td>[8억 투입, 고소천사벽화·자산마을에 색채 입혀, 이성훈 sinawi@hanmail...</td>\n",
       "      <td>[2, 4, 11]</td>\n",
       "      <td>[여수시는 원도심 일대에서 추진된 컬러빌리지 사업을 지난해 말 마무리하며 색채와 빛...</td>\n",
       "    </tr>\n",
       "    <tr>\n",
       "      <th>2</th>\n",
       "      <td>3</td>\n",
       "      <td>새해 정기 받고 올해는 반드시 일내자!</td>\n",
       "      <td>[전남드래곤즈 해맞이 다짐…선수 영입 활발, 이성훈 sinawi@hanmail.ne...</td>\n",
       "      <td>[3, 5, 7]</td>\n",
       "      <td>[임직원과 선수단 모두는 이날 구봉산 정상에 올라 일출을 보며 2018년 구단 목표...</td>\n",
       "    </tr>\n",
       "    <tr>\n",
       "      <th>3</th>\n",
       "      <td>4</td>\n",
       "      <td>농업인 역량 강화, 새해 실용교육 실시</td>\n",
       "      <td>[11~24일, 매실·감·참다래 등 지역특화작목, 이성훈 sinawi@hanmail...</td>\n",
       "      <td>[2, 3, 4]</td>\n",
       "      <td>[광양시는 오는 11일부터 24일까지 농업인교육관과 읍면동 회의실에서 농업인 105...</td>\n",
       "    </tr>\n",
       "    <tr>\n",
       "      <th>4</th>\n",
       "      <td>5</td>\n",
       "      <td>타이완 크루즈관광객 4천여명전남온다</td>\n",
       "      <td>[홍콩 크루즈선사아쿠아리우스 4, 6월 여수항 입항, 이성훈 sinawi@hanma...</td>\n",
       "      <td>[3, 7, 4]</td>\n",
       "      <td>[전라남도는 올해 4월과 6월 홍콩 크루즈선사 스타크루즈의 5만톤급아쿠아리우스호가 ...</td>\n",
       "    </tr>\n",
       "  </tbody>\n",
       "</table>\n",
       "</div>"
      ],
      "text/plain": [
       "   id                        title  \\\n",
       "0   1       논 타작물 재배, 2월 말까지 신청하세요   \n",
       "1   2  여수시, 컬러빌리지 마무리...색채와 빛도시 완성   \n",
       "2   3        새해 정기 받고 올해는 반드시 일내자!   \n",
       "3   4        농업인 역량 강화, 새해 실용교육 실시   \n",
       "4   5          타이완 크루즈관광객 4천여명전남온다   \n",
       "\n",
       "                                            sentence  extractive  \\\n",
       "0  [ha당 조사료 400만원…작물별 차등 지원, 이성훈 sinawi@hanmail.n...  [2, 3, 10]   \n",
       "1  [8억 투입, 고소천사벽화·자산마을에 색채 입혀, 이성훈 sinawi@hanmail...  [2, 4, 11]   \n",
       "2  [전남드래곤즈 해맞이 다짐…선수 영입 활발, 이성훈 sinawi@hanmail.ne...   [3, 5, 7]   \n",
       "3  [11~24일, 매실·감·참다래 등 지역특화작목, 이성훈 sinawi@hanmail...   [2, 3, 4]   \n",
       "4  [홍콩 크루즈선사아쿠아리우스 4, 6월 여수항 입항, 이성훈 sinawi@hanma...   [3, 7, 4]   \n",
       "\n",
       "                                         ex_sentence  \n",
       "0  [전라남도가 쌀 과잉문제를 근본적으로 해결하기 위해 올해부터 시행하는 쌀 생산조정제...  \n",
       "1  [여수시는 원도심 일대에서 추진된 컬러빌리지 사업을 지난해 말 마무리하며 색채와 빛...  \n",
       "2  [임직원과 선수단 모두는 이날 구봉산 정상에 올라 일출을 보며 2018년 구단 목표...  \n",
       "3  [광양시는 오는 11일부터 24일까지 농업인교육관과 읍면동 회의실에서 농업인 105...  \n",
       "4  [전라남도는 올해 4월과 6월 홍콩 크루즈선사 스타크루즈의 5만톤급아쿠아리우스호가 ...  "
      ]
     },
     "execution_count": 106,
     "metadata": {},
     "output_type": "execute_result"
    }
   ],
   "source": [
    "dataset.head()"
   ]
  },
  {
   "cell_type": "code",
   "execution_count": 107,
   "metadata": {},
   "outputs": [
    {
     "data": {
      "text/html": [
       "<div>\n",
       "<style scoped>\n",
       "    .dataframe tbody tr th:only-of-type {\n",
       "        vertical-align: middle;\n",
       "    }\n",
       "\n",
       "    .dataframe tbody tr th {\n",
       "        vertical-align: top;\n",
       "    }\n",
       "\n",
       "    .dataframe thead th {\n",
       "        text-align: right;\n",
       "    }\n",
       "</style>\n",
       "<table border=\"1\" class=\"dataframe\">\n",
       "  <thead>\n",
       "    <tr style=\"text-align: right;\">\n",
       "      <th></th>\n",
       "      <th>id</th>\n",
       "      <th>title</th>\n",
       "      <th>sentence</th>\n",
       "      <th>extractive</th>\n",
       "      <th>ex_sentence</th>\n",
       "    </tr>\n",
       "  </thead>\n",
       "  <tbody>\n",
       "    <tr>\n",
       "      <th>243972</th>\n",
       "      <td>243973</td>\n",
       "      <td>당진시, 찾아가는 청소년 노동인권 교육 진행</td>\n",
       "      <td>[내달 12일까지, 노동인권 감수성 높인다, 당진시는 지난 12일 첫 교육을 시작으...</td>\n",
       "      <td>[1, 2, 6]</td>\n",
       "      <td>[당진시는 지난 12일 첫 교육을 시작으로 내달 12일까지 당진지역 청소년들을 대상...</td>\n",
       "    </tr>\n",
       "    <tr>\n",
       "      <th>243973</th>\n",
       "      <td>243974</td>\n",
       "      <td>서산시, 2020년 성인문해교실 신청하세요!</td>\n",
       "      <td>[마을별 10명 이상이면 신청가능, 12월 24일까지 모집, 서산 마을학교 합동졸업...</td>\n",
       "      <td>[5, 4, 8]</td>\n",
       "      <td>[성인문해교실(마을학교)은 학령기 동안 경제적, 사회적 환경 등의 어려움으로 배움의...</td>\n",
       "    </tr>\n",
       "    <tr>\n",
       "      <th>243974</th>\n",
       "      <td>243975</td>\n",
       "      <td>서산시의회, 제247회 제2차 정례회 개회</td>\n",
       "      <td>[2020년 예산안, 제4회 추경예산안 및 조례안 29건 등 41개 안건 처리 예정...</td>\n",
       "      <td>[1, 3, 4]</td>\n",
       "      <td>[서산시의회는 25일 제1차 본회의를 열고 제247회 제2차 정례회를 개회했다., ...</td>\n",
       "    </tr>\n",
       "    <tr>\n",
       "      <th>243975</th>\n",
       "      <td>243976</td>\n",
       "      <td>아산시, 온천 재활 헬스케어 힐링산업 본격 추진</td>\n",
       "      <td>[전담기관 설립 추진, 타당성 검토 용역 착수보고회 개최, 아산시(시장 오세현)가 ...</td>\n",
       "      <td>[1, 2, 3]</td>\n",
       "      <td>[아산시(시장 오세현)가 온천수를 활용한 재활 헬스케어 힐링산업에 본격 착수할 예정...</td>\n",
       "    </tr>\n",
       "    <tr>\n",
       "      <th>243976</th>\n",
       "      <td>243977</td>\n",
       "      <td>용인 비상에듀 기숙학원, 대입조기선발반 모집... 12월 15일 개강</td>\n",
       "      <td>[용인비상에듀기숙학원 전경, 입시 전문 재수기숙학원 용인비상에듀기숙학원이 2021학...</td>\n",
       "      <td>[1, 5, 8]</td>\n",
       "      <td>[입시 전문 재수기숙학원 용인비상에듀기숙학원이 2021학년도 수능을 준비하는 고교 ...</td>\n",
       "    </tr>\n",
       "  </tbody>\n",
       "</table>\n",
       "</div>"
      ],
      "text/plain": [
       "            id                                   title  \\\n",
       "243972  243973                당진시, 찾아가는 청소년 노동인권 교육 진행   \n",
       "243973  243974                서산시, 2020년 성인문해교실 신청하세요!   \n",
       "243974  243975                 서산시의회, 제247회 제2차 정례회 개회   \n",
       "243975  243976              아산시, 온천 재활 헬스케어 힐링산업 본격 추진   \n",
       "243976  243977  용인 비상에듀 기숙학원, 대입조기선발반 모집... 12월 15일 개강   \n",
       "\n",
       "                                                 sentence extractive  \\\n",
       "243972  [내달 12일까지, 노동인권 감수성 높인다, 당진시는 지난 12일 첫 교육을 시작으...  [1, 2, 6]   \n",
       "243973  [마을별 10명 이상이면 신청가능, 12월 24일까지 모집, 서산 마을학교 합동졸업...  [5, 4, 8]   \n",
       "243974  [2020년 예산안, 제4회 추경예산안 및 조례안 29건 등 41개 안건 처리 예정...  [1, 3, 4]   \n",
       "243975  [전담기관 설립 추진, 타당성 검토 용역 착수보고회 개최, 아산시(시장 오세현)가 ...  [1, 2, 3]   \n",
       "243976  [용인비상에듀기숙학원 전경, 입시 전문 재수기숙학원 용인비상에듀기숙학원이 2021학...  [1, 5, 8]   \n",
       "\n",
       "                                              ex_sentence  \n",
       "243972  [당진시는 지난 12일 첫 교육을 시작으로 내달 12일까지 당진지역 청소년들을 대상...  \n",
       "243973  [성인문해교실(마을학교)은 학령기 동안 경제적, 사회적 환경 등의 어려움으로 배움의...  \n",
       "243974  [서산시의회는 25일 제1차 본회의를 열고 제247회 제2차 정례회를 개회했다., ...  \n",
       "243975  [아산시(시장 오세현)가 온천수를 활용한 재활 헬스케어 힐링산업에 본격 착수할 예정...  \n",
       "243976  [입시 전문 재수기숙학원 용인비상에듀기숙학원이 2021학년도 수능을 준비하는 고교 ...  "
      ]
     },
     "execution_count": 107,
     "metadata": {},
     "output_type": "execute_result"
    }
   ],
   "source": [
    "dataset.tail()"
   ]
  },
  {
   "attachments": {},
   "cell_type": "markdown",
   "metadata": {},
   "source": [
    "# article_table 내보내기"
   ]
  },
  {
   "cell_type": "code",
   "execution_count": 108,
   "metadata": {},
   "outputs": [],
   "source": [
    "article_dataset = dataset[['id', 'title', 'sentence']]"
   ]
  },
  {
   "cell_type": "code",
   "execution_count": 109,
   "metadata": {},
   "outputs": [
    {
     "data": {
      "text/html": [
       "<div>\n",
       "<style scoped>\n",
       "    .dataframe tbody tr th:only-of-type {\n",
       "        vertical-align: middle;\n",
       "    }\n",
       "\n",
       "    .dataframe tbody tr th {\n",
       "        vertical-align: top;\n",
       "    }\n",
       "\n",
       "    .dataframe thead th {\n",
       "        text-align: right;\n",
       "    }\n",
       "</style>\n",
       "<table border=\"1\" class=\"dataframe\">\n",
       "  <thead>\n",
       "    <tr style=\"text-align: right;\">\n",
       "      <th></th>\n",
       "      <th>id</th>\n",
       "      <th>title</th>\n",
       "      <th>sentence</th>\n",
       "    </tr>\n",
       "  </thead>\n",
       "  <tbody>\n",
       "    <tr>\n",
       "      <th>0</th>\n",
       "      <td>1</td>\n",
       "      <td>논 타작물 재배, 2월 말까지 신청하세요</td>\n",
       "      <td>[ha당 조사료 400만원…작물별 차등 지원, 이성훈 sinawi@hanmail.n...</td>\n",
       "    </tr>\n",
       "    <tr>\n",
       "      <th>1</th>\n",
       "      <td>2</td>\n",
       "      <td>여수시, 컬러빌리지 마무리...색채와 빛도시 완성</td>\n",
       "      <td>[8억 투입, 고소천사벽화·자산마을에 색채 입혀, 이성훈 sinawi@hanmail...</td>\n",
       "    </tr>\n",
       "    <tr>\n",
       "      <th>2</th>\n",
       "      <td>3</td>\n",
       "      <td>새해 정기 받고 올해는 반드시 일내자!</td>\n",
       "      <td>[전남드래곤즈 해맞이 다짐…선수 영입 활발, 이성훈 sinawi@hanmail.ne...</td>\n",
       "    </tr>\n",
       "    <tr>\n",
       "      <th>3</th>\n",
       "      <td>4</td>\n",
       "      <td>농업인 역량 강화, 새해 실용교육 실시</td>\n",
       "      <td>[11~24일, 매실·감·참다래 등 지역특화작목, 이성훈 sinawi@hanmail...</td>\n",
       "    </tr>\n",
       "    <tr>\n",
       "      <th>4</th>\n",
       "      <td>5</td>\n",
       "      <td>타이완 크루즈관광객 4천여명전남온다</td>\n",
       "      <td>[홍콩 크루즈선사아쿠아리우스 4, 6월 여수항 입항, 이성훈 sinawi@hanma...</td>\n",
       "    </tr>\n",
       "  </tbody>\n",
       "</table>\n",
       "</div>"
      ],
      "text/plain": [
       "   id                        title  \\\n",
       "0   1       논 타작물 재배, 2월 말까지 신청하세요   \n",
       "1   2  여수시, 컬러빌리지 마무리...색채와 빛도시 완성   \n",
       "2   3        새해 정기 받고 올해는 반드시 일내자!   \n",
       "3   4        농업인 역량 강화, 새해 실용교육 실시   \n",
       "4   5          타이완 크루즈관광객 4천여명전남온다   \n",
       "\n",
       "                                            sentence  \n",
       "0  [ha당 조사료 400만원…작물별 차등 지원, 이성훈 sinawi@hanmail.n...  \n",
       "1  [8억 투입, 고소천사벽화·자산마을에 색채 입혀, 이성훈 sinawi@hanmail...  \n",
       "2  [전남드래곤즈 해맞이 다짐…선수 영입 활발, 이성훈 sinawi@hanmail.ne...  \n",
       "3  [11~24일, 매실·감·참다래 등 지역특화작목, 이성훈 sinawi@hanmail...  \n",
       "4  [홍콩 크루즈선사아쿠아리우스 4, 6월 여수항 입항, 이성훈 sinawi@hanma...  "
      ]
     },
     "execution_count": 109,
     "metadata": {},
     "output_type": "execute_result"
    }
   ],
   "source": [
    "article_dataset.head()"
   ]
  },
  {
   "cell_type": "code",
   "execution_count": 80,
   "metadata": {},
   "outputs": [
    {
     "name": "stderr",
     "output_type": "stream",
     "text": [
      "C:\\Users\\Playdata\\AppData\\Local\\Temp\\ipykernel_27108\\1667279573.py:1: SettingWithCopyWarning: \n",
      "A value is trying to be set on a copy of a slice from a DataFrame\n",
      "\n",
      "See the caveats in the documentation: https://pandas.pydata.org/pandas-docs/stable/user_guide/indexing.html#returning-a-view-versus-a-copy\n",
      "  article_dataset.rename(columns={'sentence':'article'}, inplace=True)\n"
     ]
    }
   ],
   "source": [
    "# sentence를 article로 컬럼명 변경\n",
    "article_dataset.rename(columns={'sentence':'article'}, inplace=True)"
   ]
  },
  {
   "cell_type": "code",
   "execution_count": 82,
   "metadata": {},
   "outputs": [
    {
     "data": {
      "text/html": [
       "<div>\n",
       "<style scoped>\n",
       "    .dataframe tbody tr th:only-of-type {\n",
       "        vertical-align: middle;\n",
       "    }\n",
       "\n",
       "    .dataframe tbody tr th {\n",
       "        vertical-align: top;\n",
       "    }\n",
       "\n",
       "    .dataframe thead th {\n",
       "        text-align: right;\n",
       "    }\n",
       "</style>\n",
       "<table border=\"1\" class=\"dataframe\">\n",
       "  <thead>\n",
       "    <tr style=\"text-align: right;\">\n",
       "      <th></th>\n",
       "      <th>id</th>\n",
       "      <th>title</th>\n",
       "      <th>article</th>\n",
       "    </tr>\n",
       "  </thead>\n",
       "  <tbody>\n",
       "    <tr>\n",
       "      <th>0</th>\n",
       "      <td>1</td>\n",
       "      <td>논 타작물 재배, 2월 말까지 신청하세요</td>\n",
       "      <td>[ha당 조사료 400만원…작물별 차등 지원, 이성훈 sinawi@hanmail.n...</td>\n",
       "    </tr>\n",
       "    <tr>\n",
       "      <th>1</th>\n",
       "      <td>2</td>\n",
       "      <td>여수시, 컬러빌리지 마무리...색채와 빛도시 완성</td>\n",
       "      <td>[8억 투입, 고소천사벽화·자산마을에 색채 입혀, 이성훈 sinawi@hanmail...</td>\n",
       "    </tr>\n",
       "    <tr>\n",
       "      <th>2</th>\n",
       "      <td>3</td>\n",
       "      <td>새해 정기 받고 올해는 반드시 일내자!</td>\n",
       "      <td>[전남드래곤즈 해맞이 다짐…선수 영입 활발, 이성훈 sinawi@hanmail.ne...</td>\n",
       "    </tr>\n",
       "    <tr>\n",
       "      <th>3</th>\n",
       "      <td>4</td>\n",
       "      <td>농업인 역량 강화, 새해 실용교육 실시</td>\n",
       "      <td>[11~24일, 매실·감·참다래 등 지역특화작목, 이성훈 sinawi@hanmail...</td>\n",
       "    </tr>\n",
       "    <tr>\n",
       "      <th>4</th>\n",
       "      <td>5</td>\n",
       "      <td>타이완 크루즈관광객 4천여명전남온다</td>\n",
       "      <td>[홍콩 크루즈선사아쿠아리우스 4, 6월 여수항 입항, 이성훈 sinawi@hanma...</td>\n",
       "    </tr>\n",
       "  </tbody>\n",
       "</table>\n",
       "</div>"
      ],
      "text/plain": [
       "   id                        title  \\\n",
       "0   1       논 타작물 재배, 2월 말까지 신청하세요   \n",
       "1   2  여수시, 컬러빌리지 마무리...색채와 빛도시 완성   \n",
       "2   3        새해 정기 받고 올해는 반드시 일내자!   \n",
       "3   4        농업인 역량 강화, 새해 실용교육 실시   \n",
       "4   5          타이완 크루즈관광객 4천여명전남온다   \n",
       "\n",
       "                                             article  \n",
       "0  [ha당 조사료 400만원…작물별 차등 지원, 이성훈 sinawi@hanmail.n...  \n",
       "1  [8억 투입, 고소천사벽화·자산마을에 색채 입혀, 이성훈 sinawi@hanmail...  \n",
       "2  [전남드래곤즈 해맞이 다짐…선수 영입 활발, 이성훈 sinawi@hanmail.ne...  \n",
       "3  [11~24일, 매실·감·참다래 등 지역특화작목, 이성훈 sinawi@hanmail...  \n",
       "4  [홍콩 크루즈선사아쿠아리우스 4, 6월 여수항 입항, 이성훈 sinawi@hanma...  "
      ]
     },
     "execution_count": 82,
     "metadata": {},
     "output_type": "execute_result"
    }
   ],
   "source": [
    "article_dataset.head()"
   ]
  },
  {
   "cell_type": "code",
   "execution_count": 86,
   "metadata": {},
   "outputs": [
    {
     "data": {
      "text/html": [
       "<div>\n",
       "<style scoped>\n",
       "    .dataframe tbody tr th:only-of-type {\n",
       "        vertical-align: middle;\n",
       "    }\n",
       "\n",
       "    .dataframe tbody tr th {\n",
       "        vertical-align: top;\n",
       "    }\n",
       "\n",
       "    .dataframe thead th {\n",
       "        text-align: right;\n",
       "    }\n",
       "</style>\n",
       "<table border=\"1\" class=\"dataframe\">\n",
       "  <thead>\n",
       "    <tr style=\"text-align: right;\">\n",
       "      <th></th>\n",
       "      <th>id</th>\n",
       "      <th>title</th>\n",
       "      <th>article</th>\n",
       "    </tr>\n",
       "  </thead>\n",
       "  <tbody>\n",
       "    <tr>\n",
       "      <th>243972</th>\n",
       "      <td>243973</td>\n",
       "      <td>당진시, 찾아가는 청소년 노동인권 교육 진행</td>\n",
       "      <td>[내달 12일까지, 노동인권 감수성 높인다, 당진시는 지난 12일 첫 교육을 시작으...</td>\n",
       "    </tr>\n",
       "    <tr>\n",
       "      <th>243973</th>\n",
       "      <td>243974</td>\n",
       "      <td>서산시, 2020년 성인문해교실 신청하세요!</td>\n",
       "      <td>[마을별 10명 이상이면 신청가능, 12월 24일까지 모집, 서산 마을학교 합동졸업...</td>\n",
       "    </tr>\n",
       "    <tr>\n",
       "      <th>243974</th>\n",
       "      <td>243975</td>\n",
       "      <td>서산시의회, 제247회 제2차 정례회 개회</td>\n",
       "      <td>[2020년 예산안, 제4회 추경예산안 및 조례안 29건 등 41개 안건 처리 예정...</td>\n",
       "    </tr>\n",
       "    <tr>\n",
       "      <th>243975</th>\n",
       "      <td>243976</td>\n",
       "      <td>아산시, 온천 재활 헬스케어 힐링산업 본격 추진</td>\n",
       "      <td>[전담기관 설립 추진, 타당성 검토 용역 착수보고회 개최, 아산시(시장 오세현)가 ...</td>\n",
       "    </tr>\n",
       "    <tr>\n",
       "      <th>243976</th>\n",
       "      <td>243977</td>\n",
       "      <td>용인 비상에듀 기숙학원, 대입조기선발반 모집... 12월 15일 개강</td>\n",
       "      <td>[용인비상에듀기숙학원 전경, 입시 전문 재수기숙학원 용인비상에듀기숙학원이 2021학...</td>\n",
       "    </tr>\n",
       "  </tbody>\n",
       "</table>\n",
       "</div>"
      ],
      "text/plain": [
       "            id                                   title  \\\n",
       "243972  243973                당진시, 찾아가는 청소년 노동인권 교육 진행   \n",
       "243973  243974                서산시, 2020년 성인문해교실 신청하세요!   \n",
       "243974  243975                 서산시의회, 제247회 제2차 정례회 개회   \n",
       "243975  243976              아산시, 온천 재활 헬스케어 힐링산업 본격 추진   \n",
       "243976  243977  용인 비상에듀 기숙학원, 대입조기선발반 모집... 12월 15일 개강   \n",
       "\n",
       "                                                  article  \n",
       "243972  [내달 12일까지, 노동인권 감수성 높인다, 당진시는 지난 12일 첫 교육을 시작으...  \n",
       "243973  [마을별 10명 이상이면 신청가능, 12월 24일까지 모집, 서산 마을학교 합동졸업...  \n",
       "243974  [2020년 예산안, 제4회 추경예산안 및 조례안 29건 등 41개 안건 처리 예정...  \n",
       "243975  [전담기관 설립 추진, 타당성 검토 용역 착수보고회 개최, 아산시(시장 오세현)가 ...  \n",
       "243976  [용인비상에듀기숙학원 전경, 입시 전문 재수기숙학원 용인비상에듀기숙학원이 2021학...  "
      ]
     },
     "execution_count": 86,
     "metadata": {},
     "output_type": "execute_result"
    }
   ],
   "source": [
    "article_dataset.tail()"
   ]
  },
  {
   "cell_type": "code",
   "execution_count": 83,
   "metadata": {},
   "outputs": [],
   "source": [
    "article_dataset.to_csv(path_or_buf = DATA_DIR + 'article_table.csv',index=False)"
   ]
  },
  {
   "attachments": {},
   "cell_type": "markdown",
   "metadata": {},
   "source": [
    "# vector화를 위한 데이터셋 재구성"
   ]
  },
  {
   "attachments": {},
   "cell_type": "markdown",
   "metadata": {},
   "source": [
    "### id와 ex_sentence 컬럼만있는 df"
   ]
  },
  {
   "cell_type": "code",
   "execution_count": 63,
   "metadata": {},
   "outputs": [],
   "source": [
    "df = dataset.explode('ex_sentence').reset_index(drop=True)"
   ]
  },
  {
   "cell_type": "code",
   "execution_count": 64,
   "metadata": {},
   "outputs": [
    {
     "data": {
      "text/html": [
       "<div>\n",
       "<style scoped>\n",
       "    .dataframe tbody tr th:only-of-type {\n",
       "        vertical-align: middle;\n",
       "    }\n",
       "\n",
       "    .dataframe tbody tr th {\n",
       "        vertical-align: top;\n",
       "    }\n",
       "\n",
       "    .dataframe thead th {\n",
       "        text-align: right;\n",
       "    }\n",
       "</style>\n",
       "<table border=\"1\" class=\"dataframe\">\n",
       "  <thead>\n",
       "    <tr style=\"text-align: right;\">\n",
       "      <th></th>\n",
       "      <th>id</th>\n",
       "      <th>title</th>\n",
       "      <th>sentence</th>\n",
       "      <th>extractive</th>\n",
       "      <th>ex_sentence</th>\n",
       "    </tr>\n",
       "  </thead>\n",
       "  <tbody>\n",
       "    <tr>\n",
       "      <th>0</th>\n",
       "      <td>1</td>\n",
       "      <td>논 타작물 재배, 2월 말까지 신청하세요</td>\n",
       "      <td>[ha당 조사료 400만원…작물별 차등 지원, 이성훈 sinawi@hanmail.n...</td>\n",
       "      <td>[2, 3, 10]</td>\n",
       "      <td>전라남도가 쌀 과잉문제를 근본적으로 해결하기 위해 올해부터 시행하는 쌀 생산조정제를...</td>\n",
       "    </tr>\n",
       "    <tr>\n",
       "      <th>1</th>\n",
       "      <td>1</td>\n",
       "      <td>논 타작물 재배, 2월 말까지 신청하세요</td>\n",
       "      <td>[ha당 조사료 400만원…작물별 차등 지원, 이성훈 sinawi@hanmail.n...</td>\n",
       "      <td>[2, 3, 10]</td>\n",
       "      <td>쌀 생산조정제는 벼를 심었던 논에 벼 대신 사료작물이나 콩 등 다른 작물을 심으면 ...</td>\n",
       "    </tr>\n",
       "    <tr>\n",
       "      <th>2</th>\n",
       "      <td>1</td>\n",
       "      <td>논 타작물 재배, 2월 말까지 신청하세요</td>\n",
       "      <td>[ha당 조사료 400만원…작물별 차등 지원, 이성훈 sinawi@hanmail.n...</td>\n",
       "      <td>[2, 3, 10]</td>\n",
       "      <td>논에 다른 작물 재배를 바라는 농가는 오는 22일부터 2월 28일까지 농지 소재지 ...</td>\n",
       "    </tr>\n",
       "    <tr>\n",
       "      <th>3</th>\n",
       "      <td>2</td>\n",
       "      <td>여수시, 컬러빌리지 마무리...색채와 빛도시 완성</td>\n",
       "      <td>[8억 투입, 고소천사벽화·자산마을에 색채 입혀, 이성훈 sinawi@hanmail...</td>\n",
       "      <td>[2, 4, 11]</td>\n",
       "      <td>여수시는 원도심 일대에서 추진된 컬러빌리지 사업을 지난해 말 마무리하며 색채와 빛의...</td>\n",
       "    </tr>\n",
       "    <tr>\n",
       "      <th>4</th>\n",
       "      <td>2</td>\n",
       "      <td>여수시, 컬러빌리지 마무리...색채와 빛도시 완성</td>\n",
       "      <td>[8억 투입, 고소천사벽화·자산마을에 색채 입혀, 이성훈 sinawi@hanmail...</td>\n",
       "      <td>[2, 4, 11]</td>\n",
       "      <td>컬러빌리지는 색채를 이용한 경관개선사업으로 사업완료에 따라 고소천사벽화마을과 자산마...</td>\n",
       "    </tr>\n",
       "  </tbody>\n",
       "</table>\n",
       "</div>"
      ],
      "text/plain": [
       "   id                        title  \\\n",
       "0   1       논 타작물 재배, 2월 말까지 신청하세요   \n",
       "1   1       논 타작물 재배, 2월 말까지 신청하세요   \n",
       "2   1       논 타작물 재배, 2월 말까지 신청하세요   \n",
       "3   2  여수시, 컬러빌리지 마무리...색채와 빛도시 완성   \n",
       "4   2  여수시, 컬러빌리지 마무리...색채와 빛도시 완성   \n",
       "\n",
       "                                            sentence  extractive  \\\n",
       "0  [ha당 조사료 400만원…작물별 차등 지원, 이성훈 sinawi@hanmail.n...  [2, 3, 10]   \n",
       "1  [ha당 조사료 400만원…작물별 차등 지원, 이성훈 sinawi@hanmail.n...  [2, 3, 10]   \n",
       "2  [ha당 조사료 400만원…작물별 차등 지원, 이성훈 sinawi@hanmail.n...  [2, 3, 10]   \n",
       "3  [8억 투입, 고소천사벽화·자산마을에 색채 입혀, 이성훈 sinawi@hanmail...  [2, 4, 11]   \n",
       "4  [8억 투입, 고소천사벽화·자산마을에 색채 입혀, 이성훈 sinawi@hanmail...  [2, 4, 11]   \n",
       "\n",
       "                                         ex_sentence  \n",
       "0  전라남도가 쌀 과잉문제를 근본적으로 해결하기 위해 올해부터 시행하는 쌀 생산조정제를...  \n",
       "1  쌀 생산조정제는 벼를 심었던 논에 벼 대신 사료작물이나 콩 등 다른 작물을 심으면 ...  \n",
       "2  논에 다른 작물 재배를 바라는 농가는 오는 22일부터 2월 28일까지 농지 소재지 ...  \n",
       "3  여수시는 원도심 일대에서 추진된 컬러빌리지 사업을 지난해 말 마무리하며 색채와 빛의...  \n",
       "4  컬러빌리지는 색채를 이용한 경관개선사업으로 사업완료에 따라 고소천사벽화마을과 자산마...  "
      ]
     },
     "execution_count": 64,
     "metadata": {},
     "output_type": "execute_result"
    }
   ],
   "source": [
    "df.head()"
   ]
  },
  {
   "cell_type": "code",
   "execution_count": 69,
   "metadata": {},
   "outputs": [],
   "source": [
    "df = df[['id', 'ex_sentence']]"
   ]
  },
  {
   "cell_type": "code",
   "execution_count": 70,
   "metadata": {},
   "outputs": [
    {
     "data": {
      "text/html": [
       "<div>\n",
       "<style scoped>\n",
       "    .dataframe tbody tr th:only-of-type {\n",
       "        vertical-align: middle;\n",
       "    }\n",
       "\n",
       "    .dataframe tbody tr th {\n",
       "        vertical-align: top;\n",
       "    }\n",
       "\n",
       "    .dataframe thead th {\n",
       "        text-align: right;\n",
       "    }\n",
       "</style>\n",
       "<table border=\"1\" class=\"dataframe\">\n",
       "  <thead>\n",
       "    <tr style=\"text-align: right;\">\n",
       "      <th></th>\n",
       "      <th>id</th>\n",
       "      <th>ex_sentence</th>\n",
       "    </tr>\n",
       "  </thead>\n",
       "  <tbody>\n",
       "    <tr>\n",
       "      <th>0</th>\n",
       "      <td>1</td>\n",
       "      <td>전라남도가 쌀 과잉문제를 근본적으로 해결하기 위해 올해부터 시행하는 쌀 생산조정제를...</td>\n",
       "    </tr>\n",
       "    <tr>\n",
       "      <th>1</th>\n",
       "      <td>1</td>\n",
       "      <td>쌀 생산조정제는 벼를 심었던 논에 벼 대신 사료작물이나 콩 등 다른 작물을 심으면 ...</td>\n",
       "    </tr>\n",
       "    <tr>\n",
       "      <th>2</th>\n",
       "      <td>1</td>\n",
       "      <td>논에 다른 작물 재배를 바라는 농가는 오는 22일부터 2월 28일까지 농지 소재지 ...</td>\n",
       "    </tr>\n",
       "    <tr>\n",
       "      <th>3</th>\n",
       "      <td>2</td>\n",
       "      <td>여수시는 원도심 일대에서 추진된 컬러빌리지 사업을 지난해 말 마무리하며 색채와 빛의...</td>\n",
       "    </tr>\n",
       "    <tr>\n",
       "      <th>4</th>\n",
       "      <td>2</td>\n",
       "      <td>컬러빌리지는 색채를 이용한 경관개선사업으로 사업완료에 따라 고소천사벽화마을과 자산마...</td>\n",
       "    </tr>\n",
       "  </tbody>\n",
       "</table>\n",
       "</div>"
      ],
      "text/plain": [
       "   id                                        ex_sentence\n",
       "0   1  전라남도가 쌀 과잉문제를 근본적으로 해결하기 위해 올해부터 시행하는 쌀 생산조정제를...\n",
       "1   1  쌀 생산조정제는 벼를 심었던 논에 벼 대신 사료작물이나 콩 등 다른 작물을 심으면 ...\n",
       "2   1  논에 다른 작물 재배를 바라는 농가는 오는 22일부터 2월 28일까지 농지 소재지 ...\n",
       "3   2  여수시는 원도심 일대에서 추진된 컬러빌리지 사업을 지난해 말 마무리하며 색채와 빛의...\n",
       "4   2  컬러빌리지는 색채를 이용한 경관개선사업으로 사업완료에 따라 고소천사벽화마을과 자산마..."
      ]
     },
     "execution_count": 70,
     "metadata": {},
     "output_type": "execute_result"
    }
   ],
   "source": [
    "df.head()"
   ]
  },
  {
   "cell_type": "code",
   "execution_count": 71,
   "metadata": {},
   "outputs": [
    {
     "name": "stdout",
     "output_type": "stream",
     "text": [
      "<class 'pandas.core.frame.DataFrame'>\n",
      "RangeIndex: 731931 entries, 0 to 731930\n",
      "Data columns (total 2 columns):\n",
      " #   Column       Non-Null Count   Dtype \n",
      "---  ------       --------------   ----- \n",
      " 0   id           731931 non-null  int64 \n",
      " 1   ex_sentence  731931 non-null  object\n",
      "dtypes: int64(1), object(1)\n",
      "memory usage: 11.2+ MB\n"
     ]
    }
   ],
   "source": [
    "df.info()"
   ]
  },
  {
   "attachments": {},
   "cell_type": "markdown",
   "metadata": {},
   "source": [
    "### for_vector_table 내보내기"
   ]
  },
  {
   "cell_type": "code",
   "execution_count": 72,
   "metadata": {},
   "outputs": [],
   "source": [
    "df.to_csv(path_or_buf = DATA_DIR + 'for_vector_table.csv',index=False)"
   ]
  }
 ],
 "metadata": {
  "kernelspec": {
   "display_name": "Python 3",
   "language": "python",
   "name": "python3"
  },
  "language_info": {
   "codemirror_mode": {
    "name": "ipython",
    "version": 3
   },
   "file_extension": ".py",
   "mimetype": "text/x-python",
   "name": "python",
   "nbconvert_exporter": "python",
   "pygments_lexer": "ipython3",
   "version": "3.9.13"
  },
  "orig_nbformat": 4
 },
 "nbformat": 4,
 "nbformat_minor": 2
}
