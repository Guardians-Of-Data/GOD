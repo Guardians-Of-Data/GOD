{
 "cells": [
  {
   "cell_type": "code",
   "execution_count": 1,
   "id": "ed7ef36b",
   "metadata": {},
   "outputs": [],
   "source": [
    "import os\n",
    "import sys\n",
    "import warnings\n",
    "import numpy as np\n",
    "import pandas as pd\n",
    "from tqdm import tqdm\n",
    "import re\n",
    "import json\n",
    "\n",
    "\n",
    "warnings.filterwarnings(action='ignore')"
   ]
  },
  {
   "cell_type": "markdown",
   "id": "97c9ad42",
   "metadata": {},
   "source": [
    "## json 원본 데이터 셋 로딩"
   ]
  },
  {
   "cell_type": "code",
   "execution_count": 2,
   "id": "7ea3f269",
   "metadata": {},
   "outputs": [],
   "source": [
    "DATA_DIR = 'C:/workspace/nlp_study/data/Training/신문기사_train_original/'\n",
    "FILE_NAME = 'train_original.json'\n",
    "\n",
    "print('json 파일 로딩')\n",
    "with open(DATA_DIR + FILE_NAME,'r', encoding='UTF8') as json_file:\n",
    "    json_data = json.load(json_file)\n",
    "\n",
    "# 읽어온 데이터 셋을 데이터프레임으로 변환\n",
    "\n",
    "dataset = pd.DataFrame(json_data)"
   ]
  },
  {
   "cell_type": "code",
   "execution_count": 3,
   "id": "d334d0bc",
   "metadata": {},
   "outputs": [],
   "source": [
    "# 데이터프레임의 column 중 documents에 저장되어있는 index와 text값만 활용해야함\n",
    "# documents 컬럼에는 id, category, media_type, index, text 등 값들이 dict 타입으로 저장되어있음\n",
    "# 각 key 값을 데이터 프레임의 컬럼으로, value 값은 행으로 만들어주기\n",
    "print('데이터 프레임 변환')\n",
    "column_list = dataset['documents'][0].keys()\n",
    "\n",
    "for column in column_list:\n",
    "    dataset[column] = dataset['documents'].apply(lambda x : x[column])"
   ]
  },
  {
   "cell_type": "code",
   "execution_count": 4,
   "id": "01eb543d",
   "metadata": {},
   "outputs": [],
   "source": [
    "dataset.head()"
   ]
  },
  {
   "cell_type": "code",
   "execution_count": 5,
   "id": "ac0eadc1",
   "metadata": {},
   "outputs": [],
   "source": [
    "data = dataset.copy()\n",
    "data.head()"
   ]
  },
  {
   "cell_type": "code",
   "execution_count": 6,
   "id": "d0493f62",
   "metadata": {},
   "outputs": [],
   "source": [
    "data = dataset[['title','text','extractive','category']]\n",
    "data"
   ]
  },
  {
   "cell_type": "markdown",
   "id": "19f16734",
   "metadata": {},
   "source": [
    "## text 컬럼 안에 있는 리스트에서 index, sentence 추출"
   ]
  },
  {
   "cell_type": "code",
   "execution_count": 7,
   "id": "4d3d4ea6",
   "metadata": {},
   "outputs": [],
   "source": [
    "sentence_list = []\n",
    "extractive_target_list = []\n",
    "category_list = []\n",
    "\n",
    "for index in tqdm(range(len(data))):\n",
    "\n",
    "    if 'None' in data['extractive'][index]:\n",
    "        continue\n",
    "    else:\n",
    "        target_list = data['extractive'][index]\n",
    "    \n",
    "    for dict_list_index in range(len(data['text'][index])):\n",
    "        for list_index in range(len(data['text'][index][dict_list_index])):\n",
    "            text_data = data['text'][index][dict_list_index][list_index]['sentence']\n",
    "            text_data = re.sub('\\[{IMG[0-9][0-9]}]','',text_data)\n",
    "            text_data = text_data.replace('\\'','').replace('\\\"','')\n",
    "            \n",
    "            data_index = data['text'][index][dict_list_index][list_index]['index']\n",
    "\n",
    "            if data_index in target_list:\n",
    "                extractive_target_list.append(1)\n",
    "            else:\n",
    "                extractive_target_list.append(0)\n",
    "                \n",
    "            category_list.append(data['category'][index])\n",
    "            sentence_list.append(text_data)"
   ]
  },
  {
   "cell_type": "code",
   "execution_count": 8,
   "id": "d495510f",
   "metadata": {},
   "outputs": [],
   "source": [
    "print('데이터 저장')\n",
    "dataset = pd.DataFrame()\n",
    "dataset['sentence'] = sentence_list\n",
    "dataset['target'] = extractive_target_list\n",
    "dataset['category'] = category_list"
   ]
  },
  {
   "cell_type": "code",
   "execution_count": 9,
   "id": "5ff8f2b7",
   "metadata": {},
   "outputs": [],
   "source": [
    "dataset = dataset.dropna()"
   ]
  },
  {
   "cell_type": "code",
   "execution_count": 10,
   "id": "50245d67",
   "metadata": {},
   "outputs": [],
   "source": [
    "dataset.to_csv(path_or_buf = DATA_DIR + 'dataset_final.csv',index=False)"
   ]
  },
  {
   "cell_type": "code",
   "execution_count": null,
   "id": "f3fa711a",
   "metadata": {},
   "outputs": [],
   "source": []
  },
  {
   "cell_type": "code",
   "execution_count": null,
   "id": "5484a1bf",
   "metadata": {},
   "outputs": [],
   "source": []
  },
  {
   "cell_type": "code",
   "execution_count": null,
   "id": "315b7287",
   "metadata": {},
   "outputs": [],
   "source": []
  },
  {
   "cell_type": "code",
   "execution_count": null,
   "id": "37fb9895",
   "metadata": {},
   "outputs": [],
   "source": []
  },
  {
   "cell_type": "code",
   "execution_count": null,
   "id": "d8bcb2cd",
   "metadata": {},
   "outputs": [],
   "source": []
  }
 ],
 "metadata": {
  "kernelspec": {
   "display_name": "Python 3 (ipykernel)",
   "language": "python",
   "name": "python3"
  },
  "language_info": {
   "codemirror_mode": {
    "name": "ipython",
    "version": 3
   },
   "file_extension": ".py",
   "mimetype": "text/x-python",
   "name": "python",
   "nbconvert_exporter": "python",
   "pygments_lexer": "ipython3",
   "version": "3.11.3"
  }
 },
 "nbformat": 4,
 "nbformat_minor": 5
}
